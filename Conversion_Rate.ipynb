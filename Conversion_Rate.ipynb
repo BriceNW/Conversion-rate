{
 "cells": [
  {
   "cell_type": "markdown",
   "metadata": {},
   "source": [
    "## Projet Taux de Conversion"
   ]
  },
  {
   "cell_type": "markdown",
   "metadata": {},
   "source": [
    "Dans ce projet il est question de construire un modèle qui prédit le taux de conversion des clients sur un site web et faire des recommandations à une équipe marketing pour pouvoir augmenter le revenu."
   ]
  },
  {
   "cell_type": "markdown",
   "metadata": {},
   "source": [
    "#### Importation des librairies qui seront utiles pour le traitement des données"
   ]
  },
  {
   "cell_type": "code",
   "execution_count": 2,
   "metadata": {},
   "outputs": [],
   "source": [
    "import pandas as pd \n",
    "import numpy as np\n",
    "import matplotlib.pyplot as plt \n",
    "import seaborn as sns"
   ]
  },
  {
   "cell_type": "markdown",
   "metadata": {},
   "source": [
    "#### Chargement du fichier csv contenant les données dans un dataframe"
   ]
  },
  {
   "cell_type": "code",
   "execution_count": 26,
   "metadata": {},
   "outputs": [],
   "source": [
    "df = pd.read_csv(\"conversion_data.csv\")"
   ]
  },
  {
   "cell_type": "code",
   "execution_count": 27,
   "metadata": {},
   "outputs": [
    {
     "data": {
      "text/html": [
       "<div>\n",
       "<style scoped>\n",
       "    .dataframe tbody tr th:only-of-type {\n",
       "        vertical-align: middle;\n",
       "    }\n",
       "\n",
       "    .dataframe tbody tr th {\n",
       "        vertical-align: top;\n",
       "    }\n",
       "\n",
       "    .dataframe thead th {\n",
       "        text-align: right;\n",
       "    }\n",
       "</style>\n",
       "<table border=\"1\" class=\"dataframe\">\n",
       "  <thead>\n",
       "    <tr style=\"text-align: right;\">\n",
       "      <th></th>\n",
       "      <th>country</th>\n",
       "      <th>age</th>\n",
       "      <th>new_user</th>\n",
       "      <th>source</th>\n",
       "      <th>total_pages_visited</th>\n",
       "      <th>converted</th>\n",
       "    </tr>\n",
       "  </thead>\n",
       "  <tbody>\n",
       "    <tr>\n",
       "      <th>0</th>\n",
       "      <td>UK</td>\n",
       "      <td>25</td>\n",
       "      <td>1</td>\n",
       "      <td>Ads</td>\n",
       "      <td>1</td>\n",
       "      <td>0</td>\n",
       "    </tr>\n",
       "    <tr>\n",
       "      <th>1</th>\n",
       "      <td>US</td>\n",
       "      <td>23</td>\n",
       "      <td>1</td>\n",
       "      <td>Seo</td>\n",
       "      <td>5</td>\n",
       "      <td>0</td>\n",
       "    </tr>\n",
       "    <tr>\n",
       "      <th>2</th>\n",
       "      <td>US</td>\n",
       "      <td>28</td>\n",
       "      <td>1</td>\n",
       "      <td>Seo</td>\n",
       "      <td>4</td>\n",
       "      <td>0</td>\n",
       "    </tr>\n",
       "    <tr>\n",
       "      <th>3</th>\n",
       "      <td>China</td>\n",
       "      <td>39</td>\n",
       "      <td>1</td>\n",
       "      <td>Seo</td>\n",
       "      <td>5</td>\n",
       "      <td>0</td>\n",
       "    </tr>\n",
       "    <tr>\n",
       "      <th>4</th>\n",
       "      <td>US</td>\n",
       "      <td>30</td>\n",
       "      <td>1</td>\n",
       "      <td>Seo</td>\n",
       "      <td>6</td>\n",
       "      <td>0</td>\n",
       "    </tr>\n",
       "  </tbody>\n",
       "</table>\n",
       "</div>"
      ],
      "text/plain": [
       "  country  age  new_user source  total_pages_visited  converted\n",
       "0      UK   25         1    Ads                    1          0\n",
       "1      US   23         1    Seo                    5          0\n",
       "2      US   28         1    Seo                    4          0\n",
       "3   China   39         1    Seo                    5          0\n",
       "4      US   30         1    Seo                    6          0"
      ]
     },
     "execution_count": 27,
     "metadata": {},
     "output_type": "execute_result"
    }
   ],
   "source": [
    "df.head()"
   ]
  },
  {
   "cell_type": "markdown",
   "metadata": {},
   "source": [
    "#### Exploration du jeu de données"
   ]
  },
  {
   "cell_type": "code",
   "execution_count": 28,
   "metadata": {},
   "outputs": [
    {
     "data": {
      "text/plain": [
       "country                False\n",
       "age                    False\n",
       "new_user               False\n",
       "source                 False\n",
       "total_pages_visited    False\n",
       "converted              False\n",
       "dtype: bool"
      ]
     },
     "execution_count": 28,
     "metadata": {},
     "output_type": "execute_result"
    }
   ],
   "source": [
    "df.isna().any()"
   ]
  },
  {
   "cell_type": "code",
   "execution_count": 30,
   "metadata": {},
   "outputs": [
    {
     "data": {
      "text/plain": [
       "<matplotlib.axes._subplots.AxesSubplot at 0x29f9255bc88>"
      ]
     },
     "execution_count": 30,
     "metadata": {},
     "output_type": "execute_result"
    },
    {
     "data": {
      "image/png": "[encoded data removed]",
      "text/plain": [
       "<Figure size 432x288 with 1 Axes>"
      ]
     },
     "metadata": {
      "needs_background": "light"
     },
     "output_type": "display_data"
    }
   ],
   "source": [
    "sns.lineplot(x=\"total_pages_visited\", y=\"converted\", data=df)"
   ]
  },
  {
   "cell_type": "markdown",
   "metadata": {},
   "source": [
    "- La variable explicative _total_pages_visited_ a une relation de type sigmoide avec la variable cible _converted_"
   ]
  },
  {
   "cell_type": "code",
   "execution_count": 31,
   "metadata": {},
   "outputs": [
    {
     "data": {
      "text/plain": [
       "<matplotlib.axes._subplots.AxesSubplot at 0x29f924e0f60>"
      ]
     },
     "execution_count": 31,
     "metadata": {},
     "output_type": "execute_result"
    },
    {
     "data": {
      "image/png": "[encoded data removed]",
      "text/plain": [
       "<Figure size 432x288 with 1 Axes>"
      ]
     },
     "metadata": {
      "needs_background": "light"
     },
     "output_type": "display_data"
    }
   ],
   "source": [
    "sns.lineplot(x=\"new_user\", y=\"converted\", data=df)"
   ]
  },
  {
   "cell_type": "markdown",
   "metadata": {},
   "source": [
    "- La variable explicative _new_user_ a une relation linéaire avec la variable cible _converted_"
   ]
  },
  {
   "cell_type": "code",
   "execution_count": 32,
   "metadata": {},
   "outputs": [
    {
     "data": {
      "text/plain": [
       "<matplotlib.axes._subplots.AxesSubplot at 0x29f9321e940>"
      ]
     },
     "execution_count": 32,
     "metadata": {},
     "output_type": "execute_result"
    },
    {
     "data": {
      "image/png": "[encoded data removed]",
      "text/plain": [
       "<Figure size 432x288 with 1 Axes>"
      ]
     },
     "metadata": {
      "needs_background": "light"
     },
     "output_type": "display_data"
    }
   ],
   "source": [
    "sns.lineplot(x=\"age\", y=\"converted\", data=df)"
   ]
  },
  {
   "cell_type": "markdown",
   "metadata": {},
   "source": [
    "- La variable explicative _age_ semble avoir une relation de type sigmoide avec la variable cible _converted_\n",
    "- Toutefois, la valeur d'age = 120 semble abberrante, on va donc s'intérésser à ce qu'il se passe avec la varibale age"
   ]
  },
  {
   "cell_type": "code",
   "execution_count": 33,
   "metadata": {},
   "outputs": [
    {
     "data": {
      "text/plain": [
       "<matplotlib.axes._subplots.AxesSubplot at 0x29f92ad9048>"
      ]
     },
     "execution_count": 33,
     "metadata": {},
     "output_type": "execute_result"
    },
    {
     "data": {
      "image/png": "[encoded data removed]",
      "text/plain": [
       "<Figure size 432x288 with 1 Axes>"
      ]
     },
     "metadata": {
      "needs_background": "light"
     },
     "output_type": "display_data"
    }
   ],
   "source": [
    "sns.boxplot(x=\"age\", data=df, showmeans=True)"
   ]
  },
  {
   "cell_type": "markdown",
   "metadata": {},
   "source": [
    "- Seuls deux points se trouvent au delà de 80 ans"
   ]
  },
  {
   "cell_type": "code",
   "execution_count": 36,
   "metadata": {},
   "outputs": [],
   "source": [
    "df1 = df.query(\"age<=80\")"
   ]
  },
  {
   "cell_type": "code",
   "execution_count": 37,
   "metadata": {},
   "outputs": [
    {
     "data": {
      "text/plain": [
       "<matplotlib.axes._subplots.AxesSubplot at 0x29f92c1b3c8>"
      ]
     },
     "execution_count": 37,
     "metadata": {},
     "output_type": "execute_result"
    },
    {
     "data": {
      "image/png": "[encoded data removed]",
      "text/plain": [
       "<Figure size 432x288 with 1 Axes>"
      ]
     },
     "metadata": {
      "needs_background": "light"
     },
     "output_type": "display_data"
    }
   ],
   "source": [
    "sns.lineplot(x=\"age\", y=\"converted\", data=df1)"
   ]
  },
  {
   "cell_type": "markdown",
   "metadata": {},
   "source": [
    "### Quelques informations à propos du jeu de données"
   ]
  },
  {
   "cell_type": "code",
   "execution_count": 38,
   "metadata": {},
   "outputs": [
    {
     "data": {
      "image/png": "[encoded data removed]",
      "text/plain": [
       "<Figure size 432x288 with 1 Axes>"
      ]
     },
     "metadata": {},
     "output_type": "display_data"
    }
   ],
   "source": [
    "fig1_data = df1.converted.value_counts()/df1.converted.value_counts().sum()\n",
    "fig1_data = fig1_data.rename(index={1: 'Conversion', 0: 'Pas de conversion'})\n",
    "\n",
    "labels = [fig1_data.index[item] for item in range(0, len(fig1_data.index))]\n",
    "explode = (0.0,0.1)\n",
    "\n",
    "fig, ax = plt.subplots()\n",
    "_, texts, autotexts = ax.pie(fig1_data, autopct='%0.0f%%', shadow=True, startangle=90, explode=explode, labels=labels, radius=1.0)\n",
    "#fig.legend(fig_conversion.index, loc=\"center left\")\n",
    "\n",
    "for autotext in autotexts:\n",
    "    autotext.set_color('white')\n",
    "    autotext.set_size('14')\n",
    "\n",
    "for text in texts:\n",
    "    text.set_size('14')\n",
    "\n",
    "fig.legend(fig_data.index, loc=\"center left\")\n",
    "   \n",
    "ax.set_title(\"Taux de conversion\", y=1.1, fontsize = 14, fontweight='bold')\n",
    "plt.show()"
   ]
  },
  {
   "cell_type": "markdown",
   "metadata": {},
   "source": [
    "- Taux de conversion très faible (3%)"
   ]
  },
  {
   "cell_type": "code",
   "execution_count": 46,
   "metadata": {},
   "outputs": [
    {
     "data": {
      "image/png": "[encoded data removed]",
      "text/plain": [
       "<Figure size 432x432 with 1 Axes>"
      ]
     },
     "metadata": {
      "needs_background": "light"
     },
     "output_type": "display_data"
    }
   ],
   "source": [
    "conv = df1.country[df1.converted == 1].value_counts()/df1.country.value_counts()\n",
    "conv.sort_index(inplace=True)\n",
    "prop_conv = [item*100 for item in conv]\n",
    "prop_Noconv = (np.full((len(conv)), 100) - prop_conv)\n",
    "legend = conv.index\n",
    "\n",
    "f, ax = plt.subplots(figsize=(6,6))\n",
    "\n",
    "ax.bar(legend, prop_conv, label=\"Conversion\")\n",
    "ax.bar(legend, prop_Noconv, bottom=prop_conv, label=\"Pas de conversion\")\n",
    "\n",
    "ax.text(legend[0], 60, np.round(prop_Noconv[0],2), ha=\"center\", va=\"center\")\n",
    "ax.text(legend[0], 5, np.round(prop_conv[0],2), ha=\"center\", va=\"center\")\n",
    "\n",
    "ax.text(legend[1], 60, np.round(prop_Noconv[1],2), ha=\"center\", va=\"center\")\n",
    "ax.text(legend[1], 5, np.round(prop_conv[1],2),ha=\"center\", va=\"center\")\n",
    "\n",
    "ax.text(legend[2], 60, np.round(prop_Noconv[2],2), ha=\"center\", va=\"center\")\n",
    "ax.text(legend[2], 5, np.round(prop_conv[2],2),ha=\"center\", va=\"center\")\n",
    "\n",
    "ax.text(legend[3], 60, np.round(prop_Noconv[3],2), ha=\"center\", va=\"center\")\n",
    "ax.text(legend[3], 5, np.round(prop_conv[3],2),ha=\"center\", va=\"center\")\n",
    "\n",
    "plt.ylabel('Proportions', fontsize=12, fontweight='bold')\n",
    "plt.xlabel('Pays', fontsize = 12, fontweight='bold')\n",
    "ax.legend(loc='upper center', bbox_to_anchor=(0.5, 1.05), ncol=2, fancybox=True, shadow=True)\n",
    "\n",
    "ax.set_title(\"Taux de conversion par pays\", y=1.05, fontsize = 14, fontweight='bold')\n",
    "plt.show()"
   ]
  },
  {
   "cell_type": "markdown",
   "metadata": {},
   "source": [
    "- Le taux de conversion le plus bas est obtenu en Chine\n",
    "- L'Allemagne présente le meilleur taux\n",
    "- Les US et UK ont des valeurs intermediares entre les deux premières citées\n",
    "- Il serait important de savoir pourquoi on un taux aussi bas de manière générale, et particulièrement en Chine et pas dans les autres pays\n",
    "- Il serait donc judicieux de construire un modèle de prédiction pour chaque pays"
   ]
  },
  {
   "cell_type": "code",
   "execution_count": 50,
   "metadata": {},
   "outputs": [
    {
     "data": {
      "image/png": "[encoded data removed]",
      "text/plain": [
       "<Figure size 432x432 with 1 Axes>"
      ]
     },
     "metadata": {
      "needs_background": "light"
     },
     "output_type": "display_data"
    }
   ],
   "source": [
    "conv2 = df1.source[df1.converted == 1].value_counts()/df1.source.value_counts()\n",
    "conv2.sort_index(inplace=True)\n",
    "prop_conv2 = [item*100 for item in conv2]\n",
    "prop_Noconv2 = (np.full((len(conv2)), 100) - prop_conv2)\n",
    "legend = conv2.index\n",
    "\n",
    "f, ax = plt.subplots(figsize=(6,6))\n",
    "\n",
    "ax.bar(legend, prop_conv2, label=\"Conversion\")\n",
    "ax.bar(legend, prop_Noconv2, bottom=prop_conv2, label=\"Pas de conversion\")\n",
    "\n",
    "ax.text(legend[0], 60, np.round(prop_Noconv2[0],2), ha=\"center\", va=\"center\")\n",
    "ax.text(legend[0], 5, np.round(prop_conv2[0],2), ha=\"center\", va=\"center\")\n",
    "\n",
    "ax.text(legend[1], 60, np.round(prop_Noconv2[1],2), ha=\"center\", va=\"center\")\n",
    "ax.text(legend[1], 5, np.round(prop_conv2[1],2),ha=\"center\", va=\"center\")\n",
    "\n",
    "ax.text(legend[2], 60, np.round(prop_Noconv2[2],2), ha=\"center\", va=\"center\")\n",
    "ax.text(legend[2], 5, np.round(prop_conv2[2],2),ha=\"center\", va=\"center\")\n",
    "\n",
    "plt.ylabel('Proportions', fontsize=12, fontweight='bold')\n",
    "plt.xlabel('Source', fontsize = 12, fontweight='bold')\n",
    "ax.legend(loc='upper center', bbox_to_anchor=(0.5, 1.05), ncol=2, fancybox=True, shadow=True)\n",
    "\n",
    "ax.set_title(\"Taux de conversion par source\", y=1.05, fontsize = 14, fontweight='bold')\n",
    "plt.show()"
   ]
  },
  {
   "cell_type": "markdown",
   "metadata": {},
   "source": [
    "- le taux de conversion varie très peu en fontion de du canal par lequel ils arrivent sur le site web"
   ]
  },
  {
   "cell_type": "code",
   "execution_count": 52,
   "metadata": {},
   "outputs": [
    {
     "name": "stderr",
     "output_type": "stream",
     "text": [
      "C:\\ProgramData\\Anaconda3\\lib\\site-packages\\ipykernel_launcher.py:1: SettingWithCopyWarning: \n",
      "A value is trying to be set on a copy of a slice from a DataFrame.\n",
      "Try using .loc[row_indexer,col_indexer] = value instead\n",
      "\n",
      "See the caveats in the documentation: http://pandas.pydata.org/pandas-docs/stable/indexing.html#indexing-view-versus-copy\n",
      "  \"\"\"Entry point for launching an IPython kernel.\n"
     ]
    }
   ],
   "source": [
    "df1[\"age1\"] = df1.age.apply(lambda x: \"Moins de 30\" if x<=30 else \n",
    "                                      \"Moins de 45\" if 30<x<=45 else \n",
    "                                      \"plus 45\")"
   ]
  },
  {
   "cell_type": "code",
   "execution_count": 53,
   "metadata": {},
   "outputs": [
    {
     "data": {
      "image/png": "[encoded data removed]",
      "text/plain": [
       "<Figure size 432x432 with 1 Axes>"
      ]
     },
     "metadata": {
      "needs_background": "light"
     },
     "output_type": "display_data"
    }
   ],
   "source": [
    "conv3 = df1.age1[df1.converted == 1].value_counts()/df1.age1.value_counts()\n",
    "conv3.sort_index(inplace=True)\n",
    "prop_conv3 = [item*100 for item in conv3]\n",
    "prop_Noconv3 = (np.full((len(conv3)), 100) - prop_conv3)\n",
    "legend = conv3.index\n",
    "\n",
    "f, ax = plt.subplots(figsize=(6,6))\n",
    "\n",
    "ax.bar(legend, prop_conv3, label=\"Conversion\")\n",
    "ax.bar(legend, prop_Noconv3, bottom=prop_conv3, label=\"Pas de conversion\")\n",
    "\n",
    "ax.text(legend[0], 60, np.round(prop_Noconv3[0],2), ha=\"center\", va=\"center\")\n",
    "ax.text(legend[0], 1.5, np.round(prop_conv3[0],2), ha=\"center\", va=\"center\")\n",
    "\n",
    "ax.text(legend[1], 60, np.round(prop_Noconv3[1],2), ha=\"center\", va=\"center\")\n",
    "ax.text(legend[1], 1.5, np.round(prop_conv3[1],2),ha=\"center\", va=\"center\")\n",
    "\n",
    "ax.text(legend[2], 60, np.round(prop_Noconv3[2],2), ha=\"center\", va=\"center\")\n",
    "ax.text(legend[2], 1.5, np.round(prop_conv3[2],2),ha=\"center\", va=\"center\")\n",
    "\n",
    "plt.ylabel('Proportions', fontsize=12, fontweight='bold')\n",
    "plt.xlabel('Age', fontsize = 12, fontweight='bold')\n",
    "ax.legend(loc='upper center', bbox_to_anchor=(0.5, 1.05), ncol=2, fancybox=True, shadow=True)\n",
    "\n",
    "ax.set_title(\"Taux de conversion par Age\", y=1.05, fontsize = 14, fontweight='bold')\n",
    "plt.show()"
   ]
  },
  {
   "cell_type": "markdown",
   "metadata": {},
   "source": [
    "- Le taux de conversion le plus élevé est observé chez les moins de 30 ans"
   ]
  },
  {
   "cell_type": "code",
   "execution_count": 54,
   "metadata": {},
   "outputs": [
    {
     "data": {
      "image/png": "[encoded data removed]",
      "text/plain": [
       "<Figure size 432x432 with 1 Axes>"
      ]
     },
     "metadata": {
      "needs_background": "light"
     },
     "output_type": "display_data"
    }
   ],
   "source": [
    "Ger_data = df1[df1.country == \"Germany\"]\n",
    "\n",
    "conv_Ger = Ger_data.source[Ger_data.converted == 1].value_counts()/Ger_data.source.value_counts()\n",
    "prop_conv_Ger = [item*100 for item in conv_Ger]\n",
    "prop_Noconv_Ger = (np.full((len(conv_Ger)), 100) - prop_conv_Ger)\n",
    "legend = conv_Ger.index\n",
    "\n",
    "f, ax = plt.subplots(figsize=(6,6))\n",
    "\n",
    "ax.bar(legend, prop_conv_Ger, label=\"Conversion\")\n",
    "ax.bar(legend, prop_Noconv_Ger, bottom=prop_conv_Ger, label=\"Pas de conversion\")\n",
    "\n",
    "ax.text(legend[0], 60, np.round(prop_Noconv_Ger[0],2), ha=\"center\", va=\"center\")\n",
    "ax.text(legend[0], 2.5, np.round(prop_conv_Ger[0],2), ha=\"center\", va=\"center\")\n",
    "\n",
    "ax.text(legend[1], 60, np.round(prop_Noconv_Ger[1],2), ha=\"center\", va=\"center\")\n",
    "ax.text(legend[1], 2.5, np.round(prop_conv_Ger[1],2),ha=\"center\", va=\"center\")\n",
    "\n",
    "ax.text(legend[2], 60, np.round(prop_Noconv_Ger[2],2), ha=\"center\", va=\"center\")\n",
    "ax.text(legend[2], 2.5, np.round(prop_conv_Ger[2],2),ha=\"center\", va=\"center\")\n",
    "\n",
    "plt.ylabel('Proportions', fontsize=12, fontweight='bold')\n",
    "plt.xlabel('Source', fontsize = 12, fontweight='bold')\n",
    "ax.legend(loc='upper center', bbox_to_anchor=(0.5, 1.05), ncol=2, fancybox=True, shadow=True)\n",
    "\n",
    "ax.set_title(\"Taux de conversion par source en Allemagne\", y=1.05, fontsize = 14, fontweight='bold')\n",
    "plt.show()"
   ]
  },
  {
   "cell_type": "code",
   "execution_count": 55,
   "metadata": {},
   "outputs": [
    {
     "data": {
      "image/png": "[encoded data removed]",
      "text/plain": [
       "<Figure size 432x432 with 1 Axes>"
      ]
     },
     "metadata": {
      "needs_background": "light"
     },
     "output_type": "display_data"
    }
   ],
   "source": [
    "US_data = df1[df1.country == \"US\"]\n",
    "\n",
    "conv_US = US_data.source[US_data.converted == 1].value_counts()/US_data.source.value_counts()\n",
    "prop_conv_US = [item*100 for item in conv_US]\n",
    "prop_Noconv_US = (np.full((len(conv_US)), 100) - prop_conv_US)\n",
    "legend = conv_US.index\n",
    "\n",
    "f, ax = plt.subplots(figsize=(6,6))\n",
    "\n",
    "ax.bar(legend, prop_conv_US, label=\"Conversion\")\n",
    "ax.bar(legend, prop_Noconv_US, bottom=prop_conv_US, label=\"Pas de conversion\")\n",
    "\n",
    "ax.text(legend[0], 60, np.round(prop_Noconv_US[0],2), ha=\"center\", va=\"center\")\n",
    "ax.text(legend[0], 2.5, np.round(prop_conv_US[0],2), ha=\"center\", va=\"center\")\n",
    "\n",
    "ax.text(legend[1], 60, np.round(prop_Noconv_US[1],2), ha=\"center\", va=\"center\")\n",
    "ax.text(legend[1], 2.5, np.round(prop_conv_US[1],2),ha=\"center\", va=\"center\")\n",
    "\n",
    "ax.text(legend[2], 60, np.round(prop_Noconv_US[2],2), ha=\"center\", va=\"center\")\n",
    "ax.text(legend[2], 2.5, np.round(prop_conv_US[2],2),ha=\"center\", va=\"center\")\n",
    "\n",
    "plt.ylabel('Proportions', fontsize=12, fontweight='bold')\n",
    "plt.xlabel('Source', fontsize = 12, fontweight='bold')\n",
    "ax.legend(loc='upper center', bbox_to_anchor=(0.5, 1.05), ncol=2, fancybox=True, shadow=True)\n",
    "\n",
    "ax.set_title(\"Taux de conversion par source aux Etats Unis\", y=1.05, fontsize = 14, fontweight='bold')\n",
    "plt.show()"
   ]
  },
  {
   "cell_type": "code",
   "execution_count": 56,
   "metadata": {},
   "outputs": [
    {
     "data": {
      "image/png": "[encoded data removed]",
      "text/plain": [
       "<Figure size 432x432 with 1 Axes>"
      ]
     },
     "metadata": {
      "needs_background": "light"
     },
     "output_type": "display_data"
    }
   ],
   "source": [
    "UK_data = df1[df1.country == \"UK\"]\n",
    "\n",
    "conv_UK = UK_data.source[UK_data.converted == 1].value_counts()/UK_data.source.value_counts()\n",
    "prop_conv_UK = [item*100 for item in conv_UK]\n",
    "prop_Noconv_UK = (np.full((len(conv_UK)), 100) - prop_conv_UK)\n",
    "legend = conv_UK.index\n",
    "\n",
    "f, ax = plt.subplots(figsize=(6,6))\n",
    "\n",
    "ax.bar(legend, prop_conv_UK, label=\"Conversion\")\n",
    "ax.bar(legend, prop_Noconv_UK, bottom=prop_conv_UK, label=\"Pas de conversion\")\n",
    "\n",
    "ax.text(legend[0], 60, np.round(prop_Noconv_UK[0],2), ha=\"center\", va=\"center\")\n",
    "ax.text(legend[0], 2.5, np.round(prop_conv_UK[0],2), ha=\"center\", va=\"center\")\n",
    "\n",
    "ax.text(legend[1], 60, np.round(prop_Noconv_UK[1],2), ha=\"center\", va=\"center\")\n",
    "ax.text(legend[1], 2.5, np.round(prop_conv_UK[1],2),ha=\"center\", va=\"center\")\n",
    "\n",
    "ax.text(legend[2], 60, np.round(prop_Noconv_UK[2],2), ha=\"center\", va=\"center\")\n",
    "ax.text(legend[2], 2.5, np.round(prop_conv_UK[2],2),ha=\"center\", va=\"center\")\n",
    "\n",
    "plt.ylabel('Proportions', fontsize=12, fontweight='bold')\n",
    "plt.xlabel('Source', fontsize = 12, fontweight='bold')\n",
    "ax.legend(loc='upper center', bbox_to_anchor=(0.5, 1.05), ncol=2, fancybox=True, shadow=True)\n",
    "\n",
    "ax.set_title(\"Taux de conversion par source au Royaume Uni\", y=1.05, fontsize = 14, fontweight='bold')\n",
    "plt.show()"
   ]
  },
  {
   "cell_type": "markdown",
   "metadata": {},
   "source": [
    "- Pour les pays présentant les taux de conversion les plus elévés, le taux ne dépend pas du canal par lequel les utilisateurs arrivent sur le site web"
   ]
  },
  {
   "cell_type": "markdown",
   "metadata": {},
   "source": [
    "### Construction d'un modèle de prédiction"
   ]
  },
  {
   "cell_type": "code",
   "execution_count": 57,
   "metadata": {},
   "outputs": [
    {
     "data": {
      "text/html": [
       "<div>\n",
       "<style scoped>\n",
       "    .dataframe tbody tr th:only-of-type {\n",
       "        vertical-align: middle;\n",
       "    }\n",
       "\n",
       "    .dataframe tbody tr th {\n",
       "        vertical-align: top;\n",
       "    }\n",
       "\n",
       "    .dataframe thead th {\n",
       "        text-align: right;\n",
       "    }\n",
       "</style>\n",
       "<table border=\"1\" class=\"dataframe\">\n",
       "  <thead>\n",
       "    <tr style=\"text-align: right;\">\n",
       "      <th></th>\n",
       "      <th>country</th>\n",
       "      <th>age</th>\n",
       "      <th>new_user</th>\n",
       "      <th>source</th>\n",
       "      <th>total_pages_visited</th>\n",
       "      <th>converted</th>\n",
       "      <th>age1</th>\n",
       "    </tr>\n",
       "  </thead>\n",
       "  <tbody>\n",
       "    <tr>\n",
       "      <th>0</th>\n",
       "      <td>UK</td>\n",
       "      <td>25</td>\n",
       "      <td>1</td>\n",
       "      <td>Ads</td>\n",
       "      <td>1</td>\n",
       "      <td>0</td>\n",
       "      <td>Moins de 30</td>\n",
       "    </tr>\n",
       "    <tr>\n",
       "      <th>1</th>\n",
       "      <td>US</td>\n",
       "      <td>23</td>\n",
       "      <td>1</td>\n",
       "      <td>Seo</td>\n",
       "      <td>5</td>\n",
       "      <td>0</td>\n",
       "      <td>Moins de 30</td>\n",
       "    </tr>\n",
       "    <tr>\n",
       "      <th>2</th>\n",
       "      <td>US</td>\n",
       "      <td>28</td>\n",
       "      <td>1</td>\n",
       "      <td>Seo</td>\n",
       "      <td>4</td>\n",
       "      <td>0</td>\n",
       "      <td>Moins de 30</td>\n",
       "    </tr>\n",
       "    <tr>\n",
       "      <th>3</th>\n",
       "      <td>China</td>\n",
       "      <td>39</td>\n",
       "      <td>1</td>\n",
       "      <td>Seo</td>\n",
       "      <td>5</td>\n",
       "      <td>0</td>\n",
       "      <td>Moins de 45</td>\n",
       "    </tr>\n",
       "    <tr>\n",
       "      <th>4</th>\n",
       "      <td>US</td>\n",
       "      <td>30</td>\n",
       "      <td>1</td>\n",
       "      <td>Seo</td>\n",
       "      <td>6</td>\n",
       "      <td>0</td>\n",
       "      <td>Moins de 30</td>\n",
       "    </tr>\n",
       "  </tbody>\n",
       "</table>\n",
       "</div>"
      ],
      "text/plain": [
       "  country  age  new_user source  total_pages_visited  converted         age1\n",
       "0      UK   25         1    Ads                    1          0  Moins de 30\n",
       "1      US   23         1    Seo                    5          0  Moins de 30\n",
       "2      US   28         1    Seo                    4          0  Moins de 30\n",
       "3   China   39         1    Seo                    5          0  Moins de 45\n",
       "4      US   30         1    Seo                    6          0  Moins de 30"
      ]
     },
     "execution_count": 57,
     "metadata": {},
     "output_type": "execute_result"
    }
   ],
   "source": [
    "df1.head()"
   ]
  },
  {
   "cell_type": "markdown",
   "metadata": {},
   "source": [
    "#### On sépare les variables explicatives et la variable cible"
   ]
  },
  {
   "cell_type": "code",
   "execution_count": 60,
   "metadata": {},
   "outputs": [],
   "source": [
    "X = df1.loc[:, ['country', 'age1', 'new_user', 'total_pages_visited', 'source']]\n",
    "Y = df1.loc[:, 'converted']"
   ]
  },
  {
   "cell_type": "code",
   "execution_count": 61,
   "metadata": {},
   "outputs": [],
   "source": [
    "X = pd.get_dummies(X, drop_first=True)"
   ]
  },
  {
   "cell_type": "markdown",
   "metadata": {},
   "source": [
    "### Feature selection : calcul des chi2 et p-value de nos variables explicatives"
   ]
  },
  {
   "cell_type": "markdown",
   "metadata": {},
   "source": [
    "- On recherche les variables explicatives qui sont liées à la variable cible (hypothèse d'indépendance de deux variables)"
   ]
  },
  {
   "cell_type": "code",
   "execution_count": 62,
   "metadata": {},
   "outputs": [],
   "source": [
    "from sklearn.feature_selection import chi2"
   ]
  },
  {
   "cell_type": "code",
   "execution_count": 63,
   "metadata": {},
   "outputs": [
    {
     "data": {
      "text/plain": [
       "(array([2.30802259e+03, 2.02677372e+05, 3.80880794e+02, 6.43466067e+02,\n",
       "        1.75677270e+02, 7.31873681e+02, 2.97616526e+02, 3.86797846e+01,\n",
       "        2.01277614e+00]),\n",
       " array([0.00000000e+000, 0.00000000e+000, 8.00200871e-085, 5.89011424e-142,\n",
       "        4.25902331e-040, 3.50574256e-161, 1.08907298e-066, 4.99354137e-010,\n",
       "        1.55979667e-001]))"
      ]
     },
     "execution_count": 63,
     "metadata": {},
     "output_type": "execute_result"
    }
   ],
   "source": [
    "feature_importance = chi2(X,Y)\n",
    "feature_importance"
   ]
  },
  {
   "cell_type": "code",
   "execution_count": 64,
   "metadata": {},
   "outputs": [],
   "source": [
    "features = X.columns"
   ]
  },
  {
   "cell_type": "code",
   "execution_count": 65,
   "metadata": {},
   "outputs": [
    {
     "data": {
      "text/html": [
       "<div>\n",
       "<style scoped>\n",
       "    .dataframe tbody tr th:only-of-type {\n",
       "        vertical-align: middle;\n",
       "    }\n",
       "\n",
       "    .dataframe tbody tr th {\n",
       "        vertical-align: top;\n",
       "    }\n",
       "\n",
       "    .dataframe thead th {\n",
       "        text-align: right;\n",
       "    }\n",
       "</style>\n",
       "<table border=\"1\" class=\"dataframe\">\n",
       "  <thead>\n",
       "    <tr style=\"text-align: right;\">\n",
       "      <th></th>\n",
       "      <th>Chi2_score</th>\n",
       "      <th>p-value</th>\n",
       "    </tr>\n",
       "  </thead>\n",
       "  <tbody>\n",
       "    <tr>\n",
       "      <th>total_pages_visited</th>\n",
       "      <td>202677.371688</td>\n",
       "      <td>0.000000e+00</td>\n",
       "    </tr>\n",
       "    <tr>\n",
       "      <th>new_user</th>\n",
       "      <td>2308.022594</td>\n",
       "      <td>0.000000e+00</td>\n",
       "    </tr>\n",
       "    <tr>\n",
       "      <th>age1_Moins de 45</th>\n",
       "      <td>731.873681</td>\n",
       "      <td>3.505743e-161</td>\n",
       "    </tr>\n",
       "    <tr>\n",
       "      <th>country_UK</th>\n",
       "      <td>643.466067</td>\n",
       "      <td>5.890114e-142</td>\n",
       "    </tr>\n",
       "    <tr>\n",
       "      <th>country_Germany</th>\n",
       "      <td>380.880794</td>\n",
       "      <td>8.002009e-85</td>\n",
       "    </tr>\n",
       "    <tr>\n",
       "      <th>age1_plus 45</th>\n",
       "      <td>297.616526</td>\n",
       "      <td>1.089073e-66</td>\n",
       "    </tr>\n",
       "    <tr>\n",
       "      <th>country_US</th>\n",
       "      <td>175.677270</td>\n",
       "      <td>4.259023e-40</td>\n",
       "    </tr>\n",
       "    <tr>\n",
       "      <th>source_Direct</th>\n",
       "      <td>38.679785</td>\n",
       "      <td>4.993541e-10</td>\n",
       "    </tr>\n",
       "    <tr>\n",
       "      <th>source_Seo</th>\n",
       "      <td>2.012776</td>\n",
       "      <td>1.559797e-01</td>\n",
       "    </tr>\n",
       "  </tbody>\n",
       "</table>\n",
       "</div>"
      ],
      "text/plain": [
       "                        Chi2_score        p-value\n",
       "total_pages_visited  202677.371688   0.000000e+00\n",
       "new_user               2308.022594   0.000000e+00\n",
       "age1_Moins de 45        731.873681  3.505743e-161\n",
       "country_UK              643.466067  5.890114e-142\n",
       "country_Germany         380.880794   8.002009e-85\n",
       "age1_plus 45            297.616526   1.089073e-66\n",
       "country_US              175.677270   4.259023e-40\n",
       "source_Direct            38.679785   4.993541e-10\n",
       "source_Seo                2.012776   1.559797e-01"
      ]
     },
     "execution_count": 65,
     "metadata": {},
     "output_type": "execute_result"
    }
   ],
   "source": [
    "feature_rank = pd.DataFrame(columns=X.columns, index=['Chi2_score', 'p-value'], \n",
    "                            data=feature_importance).transpose().sort_values(['Chi2_score', 'p-value'], ascending=False)\n",
    "feature_rank"
   ]
  },
  {
   "cell_type": "markdown",
   "metadata": {},
   "source": [
    "- Toutes nos variables explicatives ont une p-value < 0.05 donc sont potentiellement utilisables dans le modèle.\n",
    "- On va dans un premier temps utiliser les variables _total_pages_visited_ et _new_user_ pour construire un modèle de prédiction"
   ]
  },
  {
   "cell_type": "code",
   "execution_count": 417,
   "metadata": {},
   "outputs": [],
   "source": [
    "X = df1.loc[:, ['new_user', 'total_pages_visited']]\n",
    "X = pd.get_dummies(X, drop_first=True)"
   ]
  },
  {
   "cell_type": "code",
   "execution_count": 418,
   "metadata": {},
   "outputs": [],
   "source": [
    "from sklearn.model_selection import train_test_split\n",
    "X_train, X_test, Y_train, Y_test = train_test_split(X, Y, test_size=0.2, stratify=Y, random_state=0)"
   ]
  },
  {
   "cell_type": "code",
   "execution_count": 419,
   "metadata": {},
   "outputs": [],
   "source": [
    "train_set = pd.concat([X_train, Y_train], axis=1)"
   ]
  },
  {
   "cell_type": "code",
   "execution_count": 420,
   "metadata": {},
   "outputs": [
    {
     "data": {
      "text/html": [
       "<div>\n",
       "<style scoped>\n",
       "    .dataframe tbody tr th:only-of-type {\n",
       "        vertical-align: middle;\n",
       "    }\n",
       "\n",
       "    .dataframe tbody tr th {\n",
       "        vertical-align: top;\n",
       "    }\n",
       "\n",
       "    .dataframe thead th {\n",
       "        text-align: right;\n",
       "    }\n",
       "</style>\n",
       "<table border=\"1\" class=\"dataframe\">\n",
       "  <thead>\n",
       "    <tr style=\"text-align: right;\">\n",
       "      <th></th>\n",
       "      <th>new_user</th>\n",
       "      <th>total_pages_visited</th>\n",
       "      <th>converted</th>\n",
       "    </tr>\n",
       "  </thead>\n",
       "  <tbody>\n",
       "    <tr>\n",
       "      <th>262615</th>\n",
       "      <td>1</td>\n",
       "      <td>9</td>\n",
       "      <td>0</td>\n",
       "    </tr>\n",
       "    <tr>\n",
       "      <th>235138</th>\n",
       "      <td>0</td>\n",
       "      <td>9</td>\n",
       "      <td>0</td>\n",
       "    </tr>\n",
       "    <tr>\n",
       "      <th>151586</th>\n",
       "      <td>1</td>\n",
       "      <td>7</td>\n",
       "      <td>0</td>\n",
       "    </tr>\n",
       "    <tr>\n",
       "      <th>285805</th>\n",
       "      <td>0</td>\n",
       "      <td>2</td>\n",
       "      <td>0</td>\n",
       "    </tr>\n",
       "    <tr>\n",
       "      <th>188665</th>\n",
       "      <td>1</td>\n",
       "      <td>4</td>\n",
       "      <td>0</td>\n",
       "    </tr>\n",
       "  </tbody>\n",
       "</table>\n",
       "</div>"
      ],
      "text/plain": [
       "        new_user  total_pages_visited  converted\n",
       "262615         1                    9          0\n",
       "235138         0                    9          0\n",
       "151586         1                    7          0\n",
       "285805         0                    2          0\n",
       "188665         1                    4          0"
      ]
     },
     "execution_count": 420,
     "metadata": {},
     "output_type": "execute_result"
    }
   ],
   "source": [
    "train_set.head()"
   ]
  },
  {
   "cell_type": "code",
   "execution_count": 421,
   "metadata": {},
   "outputs": [
    {
     "data": {
      "text/plain": [
       "(0.9677495868879419, 0.032250413112058125)"
      ]
     },
     "execution_count": 421,
     "metadata": {},
     "output_type": "execute_result"
    }
   ],
   "source": [
    "nb_converted_0, nb_converted_1 = train_set.converted.value_counts()\n",
    "nb_converted_0/(nb_converted_0+nb_converted_1), nb_converted_1/(nb_converted_0+nb_converted_1)"
   ]
  },
  {
   "cell_type": "markdown",
   "metadata": {},
   "source": [
    "- Les classes sont déséquilibrées dans la variable cible (97% de 0 et 3% de 1)\n",
    "- On utilise une méthode pour les rééquilibrer (réduction du nombre de 0 ou augmentation du nombre de 1)\n",
    "- Ici on va augmenter le nombre de 1 pour avoir un dataset composé de 80% de 0 et 20% de 1"
   ]
  },
  {
   "cell_type": "code",
   "execution_count": 422,
   "metadata": {},
   "outputs": [],
   "source": [
    "train_set_0 = train_set[train_set.converted == 0]\n",
    "train_set_1 = train_set[train_set.converted == 1]"
   ]
  },
  {
   "cell_type": "code",
   "execution_count": 423,
   "metadata": {},
   "outputs": [
    {
     "data": {
      "text/plain": [
       "(316198, 252958, 63240, 244800, 8158)"
      ]
     },
     "execution_count": 423,
     "metadata": {},
     "output_type": "execute_result"
    }
   ],
   "source": [
    "len(X), len(X_train), len(X_test), len(train_set_0), len(train_set_1)"
   ]
  },
  {
   "cell_type": "code",
   "execution_count": 424,
   "metadata": {},
   "outputs": [],
   "source": [
    "nb_observations = int(len(X_train)*0.30) - len(train_set_1)\n",
    "train_set_0_to_1 = train_set_0.sample(n=nb_observations, random_state=42)\n",
    "new_train_set_0 = train_set_0[~train_set_0.isin(train_set_0_to_1)].dropna()"
   ]
  },
  {
   "cell_type": "code",
   "execution_count": 425,
   "metadata": {},
   "outputs": [
    {
     "data": {
      "text/plain": [
       "(177071, 67729)"
      ]
     },
     "execution_count": 425,
     "metadata": {},
     "output_type": "execute_result"
    }
   ],
   "source": [
    "len(new_train_set_0), len(train_set_0_to_1)"
   ]
  },
  {
   "cell_type": "code",
   "execution_count": 426,
   "metadata": {},
   "outputs": [
    {
     "data": {
      "text/html": [
       "<div>\n",
       "<style scoped>\n",
       "    .dataframe tbody tr th:only-of-type {\n",
       "        vertical-align: middle;\n",
       "    }\n",
       "\n",
       "    .dataframe tbody tr th {\n",
       "        vertical-align: top;\n",
       "    }\n",
       "\n",
       "    .dataframe thead th {\n",
       "        text-align: right;\n",
       "    }\n",
       "</style>\n",
       "<table border=\"1\" class=\"dataframe\">\n",
       "  <thead>\n",
       "    <tr style=\"text-align: right;\">\n",
       "      <th></th>\n",
       "      <th>new_user</th>\n",
       "      <th>total_pages_visited</th>\n",
       "      <th>converted</th>\n",
       "    </tr>\n",
       "  </thead>\n",
       "  <tbody>\n",
       "    <tr>\n",
       "      <th>84602</th>\n",
       "      <td>1</td>\n",
       "      <td>4</td>\n",
       "      <td>0</td>\n",
       "    </tr>\n",
       "    <tr>\n",
       "      <th>155841</th>\n",
       "      <td>1</td>\n",
       "      <td>7</td>\n",
       "      <td>0</td>\n",
       "    </tr>\n",
       "    <tr>\n",
       "      <th>287537</th>\n",
       "      <td>1</td>\n",
       "      <td>2</td>\n",
       "      <td>0</td>\n",
       "    </tr>\n",
       "    <tr>\n",
       "      <th>24101</th>\n",
       "      <td>1</td>\n",
       "      <td>4</td>\n",
       "      <td>0</td>\n",
       "    </tr>\n",
       "    <tr>\n",
       "      <th>176817</th>\n",
       "      <td>0</td>\n",
       "      <td>4</td>\n",
       "      <td>0</td>\n",
       "    </tr>\n",
       "  </tbody>\n",
       "</table>\n",
       "</div>"
      ],
      "text/plain": [
       "        new_user  total_pages_visited  converted\n",
       "84602          1                    4          0\n",
       "155841         1                    7          0\n",
       "287537         1                    2          0\n",
       "24101          1                    4          0\n",
       "176817         0                    4          0"
      ]
     },
     "execution_count": 426,
     "metadata": {},
     "output_type": "execute_result"
    }
   ],
   "source": [
    "train_set_0_to_1.head()"
   ]
  },
  {
   "cell_type": "code",
   "execution_count": 427,
   "metadata": {},
   "outputs": [],
   "source": [
    "train_set_0_to_1.replace({'converted': 0}, 1, inplace=True)"
   ]
  },
  {
   "cell_type": "code",
   "execution_count": 428,
   "metadata": {},
   "outputs": [
    {
     "data": {
      "text/html": [
       "<div>\n",
       "<style scoped>\n",
       "    .dataframe tbody tr th:only-of-type {\n",
       "        vertical-align: middle;\n",
       "    }\n",
       "\n",
       "    .dataframe tbody tr th {\n",
       "        vertical-align: top;\n",
       "    }\n",
       "\n",
       "    .dataframe thead th {\n",
       "        text-align: right;\n",
       "    }\n",
       "</style>\n",
       "<table border=\"1\" class=\"dataframe\">\n",
       "  <thead>\n",
       "    <tr style=\"text-align: right;\">\n",
       "      <th></th>\n",
       "      <th>new_user</th>\n",
       "      <th>total_pages_visited</th>\n",
       "      <th>converted</th>\n",
       "    </tr>\n",
       "  </thead>\n",
       "  <tbody>\n",
       "    <tr>\n",
       "      <th>84602</th>\n",
       "      <td>1</td>\n",
       "      <td>4</td>\n",
       "      <td>1</td>\n",
       "    </tr>\n",
       "    <tr>\n",
       "      <th>155841</th>\n",
       "      <td>1</td>\n",
       "      <td>7</td>\n",
       "      <td>1</td>\n",
       "    </tr>\n",
       "    <tr>\n",
       "      <th>287537</th>\n",
       "      <td>1</td>\n",
       "      <td>2</td>\n",
       "      <td>1</td>\n",
       "    </tr>\n",
       "    <tr>\n",
       "      <th>24101</th>\n",
       "      <td>1</td>\n",
       "      <td>4</td>\n",
       "      <td>1</td>\n",
       "    </tr>\n",
       "    <tr>\n",
       "      <th>176817</th>\n",
       "      <td>0</td>\n",
       "      <td>4</td>\n",
       "      <td>1</td>\n",
       "    </tr>\n",
       "  </tbody>\n",
       "</table>\n",
       "</div>"
      ],
      "text/plain": [
       "        new_user  total_pages_visited  converted\n",
       "84602          1                    4          1\n",
       "155841         1                    7          1\n",
       "287537         1                    2          1\n",
       "24101          1                    4          1\n",
       "176817         0                    4          1"
      ]
     },
     "execution_count": 428,
     "metadata": {},
     "output_type": "execute_result"
    }
   ],
   "source": [
    "train_set_0_to_1.head()"
   ]
  },
  {
   "cell_type": "code",
   "execution_count": 429,
   "metadata": {},
   "outputs": [],
   "source": [
    "train_set_1 = pd.concat([train_set_1 , train_set_0_to_1], axis=0)"
   ]
  },
  {
   "cell_type": "code",
   "execution_count": 430,
   "metadata": {},
   "outputs": [
    {
     "data": {
      "text/plain": [
       "(316198, 252958, 63240, 177071, 75887)"
      ]
     },
     "execution_count": 430,
     "metadata": {},
     "output_type": "execute_result"
    }
   ],
   "source": [
    "len(X), len(X_train), len(X_test), len(new_train_set_0), len(train_set_1)"
   ]
  },
  {
   "cell_type": "code",
   "execution_count": 431,
   "metadata": {},
   "outputs": [],
   "source": [
    "dataset_new = pd.concat([new_train_set_0 , train_set_1], axis=0)"
   ]
  },
  {
   "cell_type": "code",
   "execution_count": 432,
   "metadata": {},
   "outputs": [
    {
     "data": {
      "text/plain": [
       "(0.7000015812901746, 0.29999841870982535)"
      ]
     },
     "execution_count": 432,
     "metadata": {},
     "output_type": "execute_result"
    }
   ],
   "source": [
    "nb_converted_0, nb_converted_1 = dataset_new.converted.value_counts()\n",
    "nb_converted_0/(nb_converted_0+nb_converted_1), nb_converted_1/(nb_converted_0+nb_converted_1)"
   ]
  },
  {
   "cell_type": "code",
   "execution_count": 433,
   "metadata": {},
   "outputs": [
    {
     "data": {
      "text/html": [
       "<div>\n",
       "<style scoped>\n",
       "    .dataframe tbody tr th:only-of-type {\n",
       "        vertical-align: middle;\n",
       "    }\n",
       "\n",
       "    .dataframe tbody tr th {\n",
       "        vertical-align: top;\n",
       "    }\n",
       "\n",
       "    .dataframe thead th {\n",
       "        text-align: right;\n",
       "    }\n",
       "</style>\n",
       "<table border=\"1\" class=\"dataframe\">\n",
       "  <thead>\n",
       "    <tr style=\"text-align: right;\">\n",
       "      <th></th>\n",
       "      <th>new_user</th>\n",
       "      <th>total_pages_visited</th>\n",
       "      <th>converted</th>\n",
       "    </tr>\n",
       "  </thead>\n",
       "  <tbody>\n",
       "    <tr>\n",
       "      <th>262615</th>\n",
       "      <td>1.0</td>\n",
       "      <td>9.0</td>\n",
       "      <td>0</td>\n",
       "    </tr>\n",
       "    <tr>\n",
       "      <th>235138</th>\n",
       "      <td>0.0</td>\n",
       "      <td>9.0</td>\n",
       "      <td>0</td>\n",
       "    </tr>\n",
       "    <tr>\n",
       "      <th>151586</th>\n",
       "      <td>1.0</td>\n",
       "      <td>7.0</td>\n",
       "      <td>0</td>\n",
       "    </tr>\n",
       "    <tr>\n",
       "      <th>285805</th>\n",
       "      <td>0.0</td>\n",
       "      <td>2.0</td>\n",
       "      <td>0</td>\n",
       "    </tr>\n",
       "    <tr>\n",
       "      <th>127317</th>\n",
       "      <td>0.0</td>\n",
       "      <td>4.0</td>\n",
       "      <td>0</td>\n",
       "    </tr>\n",
       "  </tbody>\n",
       "</table>\n",
       "</div>"
      ],
      "text/plain": [
       "        new_user  total_pages_visited  converted\n",
       "262615       1.0                  9.0          0\n",
       "235138       0.0                  9.0          0\n",
       "151586       1.0                  7.0          0\n",
       "285805       0.0                  2.0          0\n",
       "127317       0.0                  4.0          0"
      ]
     },
     "execution_count": 433,
     "metadata": {},
     "output_type": "execute_result"
    }
   ],
   "source": [
    "dataset_new.converted = dataset_new.converted.astype('int64')\n",
    "dataset_new.head()"
   ]
  },
  {
   "cell_type": "code",
   "execution_count": 434,
   "metadata": {},
   "outputs": [],
   "source": [
    "X_train = dataset_new.drop(columns=['converted'])\n",
    "Y_train = dataset_new.converted"
   ]
  },
  {
   "cell_type": "markdown",
   "metadata": {},
   "source": [
    "- On normalise les valeurs numériques du jeu de données"
   ]
  },
  {
   "cell_type": "code",
   "execution_count": 435,
   "metadata": {},
   "outputs": [
    {
     "name": "stderr",
     "output_type": "stream",
     "text": [
      "C:\\ProgramData\\Anaconda3\\lib\\site-packages\\ipykernel_launcher.py:5: DataConversionWarning: Data with input dtype int64 were all converted to float64 by StandardScaler.\n",
      "  \"\"\"\n"
     ]
    }
   ],
   "source": [
    "from sklearn.preprocessing import StandardScaler\n",
    "\n",
    "sc_x = StandardScaler()\n",
    "X_train = sc_x.fit_transform(X_train)\n",
    "X_test = sc_x.transform(X_test)"
   ]
  },
  {
   "cell_type": "code",
   "execution_count": 459,
   "metadata": {},
   "outputs": [
    {
     "name": "stderr",
     "output_type": "stream",
     "text": [
      "C:\\ProgramData\\Anaconda3\\lib\\site-packages\\sklearn\\linear_model\\logistic.py:433: FutureWarning: Default solver will be changed to 'lbfgs' in 0.22. Specify a solver to silence this warning.\n",
      "  FutureWarning)\n"
     ]
    },
    {
     "data": {
      "text/plain": [
       "LogisticRegression(C=1.0, class_weight=None, dual=False, fit_intercept=True,\n",
       "          intercept_scaling=1, max_iter=100, multi_class='warn',\n",
       "          n_jobs=None, penalty='l2', random_state=None, solver='warn',\n",
       "          tol=0.0001, verbose=0, warm_start=False)"
      ]
     },
     "execution_count": 459,
     "metadata": {},
     "output_type": "execute_result"
    }
   ],
   "source": [
    "from sklearn.linear_model import LogisticRegression\n",
    "classifier = LogisticRegression()\n",
    "classifier.fit(X_train, Y_train)"
   ]
  },
  {
   "cell_type": "code",
   "execution_count": 460,
   "metadata": {},
   "outputs": [],
   "source": [
    "from sklearn.metrics import confusion_matrix, classification_report\n",
    "Y_train_pred = classifier.predict(X_train)\n",
    "Y_test_pred = classifier.predict(X_test)"
   ]
  },
  {
   "cell_type": "code",
   "execution_count": 461,
   "metadata": {},
   "outputs": [
    {
     "data": {
      "image/png": "[encoded data removed]",
      "text/plain": [
       "<Figure size 432x360 with 2 Axes>"
      ]
     },
     "metadata": {
      "needs_background": "light"
     },
     "output_type": "display_data"
    }
   ],
   "source": [
    "train_matrix = confusion_matrix(Y_train, Y_train_pred)\n",
    "\n",
    "f, ax = plt.subplots(figsize=(6,5))\n",
    "\n",
    "sns.heatmap(train_matrix, annot=True, ax=ax, cmap=\"YlGnBu_r\")\n",
    "\n",
    "plt.xlabel('Prediction', fontsize=12, fontweight='bold')\n",
    "plt.ylabel('Observed', fontsize=12, fontweight='bold')\n",
    "plt.show()"
   ]
  },
  {
   "cell_type": "code",
   "execution_count": 462,
   "metadata": {},
   "outputs": [
    {
     "data": {
      "text/plain": [
       "0.7173799603096166"
      ]
     },
     "execution_count": 462,
     "metadata": {},
     "output_type": "execute_result"
    }
   ],
   "source": [
    "classifier.score(X_train, Y_train)"
   ]
  },
  {
   "cell_type": "code",
   "execution_count": 463,
   "metadata": {},
   "outputs": [
    {
     "name": "stdout",
     "output_type": "stream",
     "text": [
      "              precision    recall  f1-score   support\n",
      "\n",
      "           0       0.71      1.00      0.83    177071\n",
      "           1       0.91      0.06      0.12     75887\n",
      "\n",
      "   micro avg       0.72      0.72      0.72    252958\n",
      "   macro avg       0.81      0.53      0.48    252958\n",
      "weighted avg       0.77      0.72      0.62    252958\n",
      "\n"
     ]
    }
   ],
   "source": [
    "print(classification_report(Y_train, Y_train_pred))"
   ]
  },
  {
   "cell_type": "code",
   "execution_count": 464,
   "metadata": {},
   "outputs": [
    {
     "data": {
      "image/png": "[encoded data removed]",
      "text/plain": [
       "<Figure size 432x360 with 2 Axes>"
      ]
     },
     "metadata": {
      "needs_background": "light"
     },
     "output_type": "display_data"
    }
   ],
   "source": [
    "test_matrix = confusion_matrix(Y_test, Y_test_pred)\n",
    "\n",
    "f, ax = plt.subplots(figsize=(6,5))\n",
    "\n",
    "sns.heatmap(test_matrix, annot=True, ax=ax, cmap=\"YlGnBu_r\")\n",
    "\n",
    "plt.xlabel('Prediction', fontsize=12, fontweight='bold')\n",
    "plt.ylabel('Observed', fontsize=12, fontweight='bold')\n",
    "plt.show()"
   ]
  },
  {
   "cell_type": "code",
   "execution_count": 465,
   "metadata": {},
   "outputs": [
    {
     "data": {
      "text/plain": [
       "0.983349146110057"
      ]
     },
     "execution_count": 465,
     "metadata": {},
     "output_type": "execute_result"
    }
   ],
   "source": [
    "classifier.score(X_test, Y_test)"
   ]
  },
  {
   "cell_type": "code",
   "execution_count": 466,
   "metadata": {},
   "outputs": [
    {
     "name": "stdout",
     "output_type": "stream",
     "text": [
      "              precision    recall  f1-score   support\n",
      "\n",
      "           0       0.99      1.00      0.99     61200\n",
      "           1       0.88      0.56      0.68      2040\n",
      "\n",
      "   micro avg       0.98      0.98      0.98     63240\n",
      "   macro avg       0.93      0.78      0.84     63240\n",
      "weighted avg       0.98      0.98      0.98     63240\n",
      "\n"
     ]
    }
   ],
   "source": [
    "print(classification_report(Y_test, Y_test_pred))"
   ]
  },
  {
   "cell_type": "code",
   "execution_count": 467,
   "metadata": {},
   "outputs": [],
   "source": [
    "from sklearn.metrics import roc_auc_score\n",
    "from sklearn.metrics import roc_curve"
   ]
  },
  {
   "cell_type": "code",
   "execution_count": 468,
   "metadata": {},
   "outputs": [
    {
     "data": {
      "image/png": "[encoded data removed]",
      "text/plain": [
       "<Figure size 432x288 with 1 Axes>"
      ]
     },
     "metadata": {
      "needs_background": "light"
     },
     "output_type": "display_data"
    }
   ],
   "source": [
    "logit_roc_auc = roc_auc_score(Y_test, classifier.predict(X_test))\n",
    "fpr, tpr, thresholds = roc_curve(Y_test, classifier.predict_proba(X_test)[:,1])\n",
    "plt.figure()\n",
    "plt.plot(fpr, tpr, label='Logistic Regression (area = %0.2f)' % logit_roc_auc)\n",
    "plt.plot([0, 1], [0, 1],'r--')\n",
    "plt.xlim([0.0, 1.0])\n",
    "plt.ylim([0.0, 1.05])\n",
    "plt.xlabel('False Negative Rate')\n",
    "plt.ylabel('True Negative Rate')\n",
    "plt.title('Receiver operating characteristic')\n",
    "plt.legend(loc=\"lower right\")\n",
    "plt.savefig('Log_ROC')\n",
    "plt.show()"
   ]
  },
  {
   "cell_type": "markdown",
   "metadata": {},
   "source": [
    "- Le modèle généralise bien, les prédictions sont meilleures sur le test\n",
    "- Le modèle prédit correctement la conversion dans 88% des cas et la non conversion dans 99% cas (précision)\n",
    "- Toutefois le modèle n'arrive à dectecter que 56% des conversions (recall)\n",
    "- Optimiser les performances:\n",
    "    - Faire un modèle par pays\n",
    "    - Faire un modèle par type de user (new/old)"
   ]
  },
  {
   "cell_type": "markdown",
   "metadata": {},
   "source": [
    "- Recommandations à l'équipe marketing\n",
    "    - s'intéresser aux habitudes des clients sur le site web et adapter le contenu du site en fontion\n",
    "    - Faire une étude par pays, par tranche d'age, par source"
   ]
  }
 ],
 "metadata": {
  "kernelspec": {
   "display_name": "Python 3",
   "language": "python",
   "name": "python3"
  },
  "language_info": {
   "codemirror_mode": {
    "name": "ipython",
    "version": 3
   },
   "file_extension": ".py",
   "mimetype": "text/x-python",
   "name": "python",
   "nbconvert_exporter": "python",
   "pygments_lexer": "ipython3",
   "version": "3.7.6"
  }
 },
 "nbformat": 4,
 "nbformat_minor": 2
}
